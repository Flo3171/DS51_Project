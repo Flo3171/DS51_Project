{
 "cells": [
  {
   "attachments": {},
   "cell_type": "markdown",
   "metadata": {},
   "source": [
    "# Loading the animal ontology into python\n",
    "\n",
    "Our goal here is to:\n",
    "- load the ontology from the owl file\n",
    "- extract a list of animals and their features\n",
    "- create a mapping from features to numbers\n",
    "- map each species name to a feature vector\n",
    "- create a function that takes a feature vector and returns a species name"
   ]
  },
  {
   "cell_type": "code",
   "execution_count": 1,
   "metadata": {},
   "outputs": [],
   "source": [
    "import owlready2\n",
    "import os\n",
    "import itertools\n",
    "import numpy\n",
    "\n",
    "owlready2.onto_path.append(os.path.abspath(\".\"))\n",
    "\n",
    "animals_onto = owlready2.get_ontology(\"https://raw.githubusercontent.com/Flo3171/DS51_Project/master/code/animal_ontologie.rdf#\").load()"
   ]
  },
  {
   "cell_type": "code",
   "execution_count": 6,
   "metadata": {},
   "outputs": [
    {
     "name": "stdout",
     "output_type": "stream",
     "text": [
      "{'Aérien', 'Carnivore', 'Terrestre', 'Marin', 'Omnivore', 'Plumes', 'Ecailles', 'Fourrure'}\n"
     ]
    },
    {
     "data": {
      "text/plain": [
       "{'Aigle': {'Aérien', 'Carnivore', 'Plumes'},\n",
       " 'Loup': {'Carnivore', 'Fourrure', 'Terrestre'},\n",
       " 'Ours': {'Fourrure', 'Omnivore', 'Terrestre'},\n",
       " 'Passerin': {'Aérien', 'Omnivore', 'Plumes'},\n",
       " 'Poisson_Rouge': {'Ecailles', 'Marin', 'Omnivore'},\n",
       " 'Requin': {'Carnivore', 'Ecailles', 'Marin'}}"
      ]
     },
     "execution_count": 6,
     "metadata": {},
     "output_type": "execute_result"
    }
   ],
   "source": [
    "properties = set(animals_onto.search(subproperty_of = animals_onto[\"a_pour_caractéristique\"]))\n",
    "\n",
    "animal_features = dict()\n",
    "\n",
    "for animal in animals_onto.search(subclass_of = animals_onto[\"Animal\"]):\n",
    "    if animal == animals_onto[\"Animal\"]:\n",
    "        continue\n",
    "    \n",
    "    animal_features[animal.name] = set()\n",
    "    # Prop is for instance `a_sur_la_peau`\n",
    "    for prop in animal.get_class_properties():\n",
    "        if not (prop in properties):\n",
    "            continue\n",
    "        # Get the restriction defined for the class, for instance `Fourrure`\n",
    "        prop_range_restriction = prop[animal]\n",
    "        assert len(prop_range_restriction) == 1\n",
    "        feature = prop_range_restriction[0].name\n",
    "        # store it\n",
    "        animal_features[animal.name].add(feature)\n",
    "\n",
    "# Get the list of all features found\n",
    "all_features = set(itertools.chain.from_iterable(animal_features.values()))\n",
    "print(all_features)\n",
    "\n",
    "# Remove animals with no features (optional)\n",
    "# animal_features = dict(filter(lambda animal: len(animal[1]) > 0, animal_features.items()))\n",
    "animal_features"
   ]
  },
  {
   "cell_type": "code",
   "execution_count": 68,
   "metadata": {},
   "outputs": [
    {
     "data": {
      "text/plain": [
       "{'Aigle': array([0., 1., 0., 0., 1., 0., 1., 0.]),\n",
       " 'Loup': array([1., 0., 1., 0., 1., 0., 0., 0.]),\n",
       " 'Ours': array([1., 0., 1., 1., 0., 0., 0., 0.]),\n",
       " 'Passerin': array([0., 1., 0., 1., 0., 0., 1., 0.]),\n",
       " 'Poisson_Rouge': array([0., 0., 0., 1., 0., 1., 0., 1.]),\n",
       " 'Requin': array([0., 0., 0., 0., 1., 1., 0., 1.])}"
      ]
     },
     "execution_count": 68,
     "metadata": {},
     "output_type": "execute_result"
    }
   ],
   "source": [
    "# Assign numbers to each caracteristic\n",
    "feature_indices = dict(enumerate(all_caracteristics))\n",
    "\n",
    "# Generate the class name -> feature vector dict\n",
    "def get_vector(features: set[str]) -> list[int]:\n",
    "    res = numpy.zeros(len(all_caracteristics))\n",
    "    for index, name in feature_indices.items():\n",
    "        if name in features:\n",
    "            res[index] = 1\n",
    "    \n",
    "    return res\n",
    "\n",
    "feature_dict = {name: get_vector(features) for name, features in animal_caracteristics.items()}\n",
    "feature_dict"
   ]
  },
  {
   "cell_type": "code",
   "execution_count": 96,
   "metadata": {},
   "outputs": [
    {
     "data": {
      "text/plain": [
       "'Aigle'"
      ]
     },
     "execution_count": 96,
     "metadata": {},
     "output_type": "execute_result"
    }
   ],
   "source": [
    "# Method 1: round values and pick the animal with matching characteristics.\n",
    "# This method has O(n*c) time complexity, but can be implemented in O(max(c, log(n))) time\n",
    "# with careful sorting of the features and with a binary tree.\n",
    "def get_animal_from_features(input_features: list[float]) -> str | None:\n",
    "    rounded = numpy.round(input_features)\n",
    "    for animal, features in feature_dict.items():\n",
    "        if numpy.array_equal(features, rounded):\n",
    "            return animal\n",
    "    \n",
    "    return None\n",
    "\n",
    "get_animal_from_features(feature_dict[\"Aigle\"])"
   ]
  },
  {
   "cell_type": "code",
   "execution_count": 97,
   "metadata": {},
   "outputs": [
    {
     "data": {
      "text/plain": [
       "'Aigle'"
      ]
     },
     "execution_count": 97,
     "metadata": {},
     "output_type": "execute_result"
    }
   ],
   "source": [
    "import scipy\n",
    "\n",
    "# Method 2: find the value with the least euclidean distance\n",
    "# This method has O(n*c) time complexity, but can be optimized down to O(log(n) * c)\n",
    "# by applying pruning to a tree traversal algorithm.\n",
    "names_list = list(feature_dict.keys())\n",
    "features_list = numpy.array(list(feature_dict.values()))\n",
    "\n",
    "def get_animal_from_features2(input_features: list[float]) -> str | None:\n",
    "    dists = scipy.spatial.distance.cdist(features_list, [input_features], metric=\"euclidean\")\n",
    "    \n",
    "    return names_list[numpy.argmin(dists)]\n",
    "\n",
    "get_animal_from_features2(feature_dict[\"Aigle\"])"
   ]
  },
  {
   "cell_type": "code",
   "execution_count": 10,
   "metadata": {},
   "outputs": [
    {
     "data": {
      "text/plain": [
       "{'n01614925': 'Aigle',\n",
       " 'n02114367': 'Loup',\n",
       " 'n02133161': 'Ours',\n",
       " 'n01537544': 'Passerin',\n",
       " 'n01443537': 'Poisson_Rouge',\n",
       " 'n01484850': 'Requin'}"
      ]
     },
     "execution_count": 10,
     "metadata": {},
     "output_type": "execute_result"
    }
   ],
   "source": [
    "# Finally, extract the identifiers in the dataset for the class\n",
    "\n",
    "dataset_identifiers = dict()\n",
    "identifier_prop = animals_onto[\"a_pour_identifiant\"]\n",
    "for animal in animals_onto.search(subclass_of = animals_onto[\"Animal\"]):\n",
    "    for identifier in identifier_prop[animal]:\n",
    "        dataset_identifiers[identifier] = animal.name\n",
    "\n",
    "dataset_identifiers"
   ]
  },
  {
   "attachments": {},
   "cell_type": "markdown",
   "metadata": {},
   "source": [
    "## Putting it all together"
   ]
  },
  {
   "cell_type": "code",
   "execution_count": 13,
   "metadata": {},
   "outputs": [
    {
     "data": {
      "text/plain": [
       "({'Aigle': array([1., 1., 0., 0., 0., 1., 0., 0.]),\n",
       "  'Loup': array([0., 1., 1., 0., 0., 0., 0., 1.]),\n",
       "  'Ours': array([0., 0., 1., 0., 1., 0., 0., 1.]),\n",
       "  'Passerin': array([1., 0., 0., 0., 1., 1., 0., 0.]),\n",
       "  'Poisson_Rouge': array([0., 0., 0., 1., 1., 0., 1., 0.]),\n",
       "  'Requin': array([0., 1., 0., 1., 0., 0., 1., 0.])},\n",
       " <function __main__.load_features_mapping.<locals>.get_animal_from_features2(input_features: list[float]) -> str | None>,\n",
       " {'n01614925': 'Aigle',\n",
       "  'n02114367': 'Loup',\n",
       "  'n02133161': 'Ours',\n",
       "  'n01537544': 'Passerin',\n",
       "  'n01443537': 'Poisson_Rouge',\n",
       "  'n01484850': 'Requin'},\n",
       " {0: 'Aérien',\n",
       "  1: 'Carnivore',\n",
       "  2: 'Terrestre',\n",
       "  3: 'Marin',\n",
       "  4: 'Omnivore',\n",
       "  5: 'Plumes',\n",
       "  6: 'Ecailles',\n",
       "  7: 'Fourrure'})"
      ]
     },
     "execution_count": 13,
     "metadata": {},
     "output_type": "execute_result"
    }
   ],
   "source": [
    "import owlready2\n",
    "import itertools\n",
    "import numpy\n",
    "import scipy\n",
    "import typing\n",
    "\n",
    "# Returns the mapping dictionary from species name to feature vector,\n",
    "# a function that returns the closest species given a feature vector,\n",
    "# and the names of each feature.\n",
    "def load_features_mapping(\n",
    "    iri: str = \"https://raw.githubusercontent.com/Flo3171/DS51_Project/master/code/animal_ontologie.rdf\"\n",
    ") -> typing.Tuple[\n",
    "    dict[str, numpy.array],\n",
    "    typing.Callable[[numpy.array], str | None],\n",
    "    dict[str, str],\n",
    "    dict[int, str]\n",
    "]:\n",
    "    animals_onto = owlready2.get_ontology(iri).load()\n",
    "\n",
    "    properties = set(animals_onto.search(subproperty_of = animals_onto[\"a_pour_caractéristique\"]))\n",
    "    animal_features = dict()\n",
    "\n",
    "    for animal in animals_onto.search(subclass_of = animals_onto[\"Animal\"]):\n",
    "        if animal == animals_onto[\"Animal\"]:\n",
    "            continue\n",
    "        \n",
    "        animal_features[animal.name] = set()\n",
    "        # Prop is for instance `a_sur_la_peau`\n",
    "        for prop in animal.get_class_properties():\n",
    "            if not (prop in properties):\n",
    "                continue\n",
    "            # Get the restriction defined for the class, for instance `Fourrure`\n",
    "            prop_range_restriction = prop[animal]\n",
    "            assert len(prop_range_restriction) == 1\n",
    "            feature = prop_range_restriction[0].name\n",
    "            # store it\n",
    "            animal_features[animal.name].add(feature)\n",
    "\n",
    "    # Get the list of all features found\n",
    "    all_features = set(itertools.chain.from_iterable(animal_features.values()))\n",
    "    \n",
    "    # Extract the identifiers in the dataset for the class\n",
    "    dataset_identifiers = dict()\n",
    "    identifier_prop = animals_onto[\"a_pour_identifiant\"]\n",
    "    for animal in animals_onto.search(subclass_of = animals_onto[\"Animal\"]):\n",
    "        for identifier in identifier_prop[animal]:\n",
    "            dataset_identifiers[identifier] = animal.name\n",
    "\n",
    "    # Assign numbers to each caracteristic\n",
    "    feature_indices = dict(enumerate(all_features))\n",
    "\n",
    "    # Generate the class name -> feature vector dict\n",
    "    def get_vector(features: set[str]) -> list[int]:\n",
    "        res = numpy.zeros(len(all_features))\n",
    "        for index, name in feature_indices.items():\n",
    "            if name in features:\n",
    "                res[index] = 1\n",
    "\n",
    "        return res\n",
    "\n",
    "    feature_dict = {name: get_vector(features) for name, features in animal_features.items()}\n",
    "\n",
    "    names_list = list(feature_dict.keys())\n",
    "    features_list = numpy.array(list(feature_dict.values()))\n",
    "\n",
    "    def get_animal_from_features2(input_features: list[float]) -> str | None:\n",
    "        dists = scipy.spatial.distance.cdist(features_list, [input_features], metric=\"euclidean\")\n",
    "\n",
    "        return names_list[numpy.argmin(dists)]\n",
    "\n",
    "    return (feature_dict, get_animal_from_features2, dataset_identifiers, feature_indices)\n",
    "\n",
    "load_features_mapping()"
   ]
  }
 ],
 "metadata": {
  "kernelspec": {
   "display_name": "Python 3",
   "language": "python",
   "name": "python3"
  },
  "language_info": {
   "codemirror_mode": {
    "name": "ipython",
    "version": 3
   },
   "file_extension": ".py",
   "mimetype": "text/x-python",
   "name": "python",
   "nbconvert_exporter": "python",
   "pygments_lexer": "ipython3",
   "version": "3.11.3"
  },
  "orig_nbformat": 4
 },
 "nbformat": 4,
 "nbformat_minor": 2
}
